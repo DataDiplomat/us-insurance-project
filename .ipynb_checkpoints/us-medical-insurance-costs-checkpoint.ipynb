{
 "cells": [
  {
   "cell_type": "markdown",
   "metadata": {},
   "source": [
    "# U.S. Medical Insurance Costs"
   ]
  },
  {
   "cell_type": "markdown",
   "metadata": {},
   "source": [
    "This project intends to provide answers to following questions categorized under two groups: Data-related and \n",
    "Insurance charge-related\n",
    "    \n",
    "    Related to dataset\n",
    "    1. How many m/f respondents are there in the data set?\n",
    "    2. How are m/f respondents distributed across regions?\n",
    "    3. How old are the youngest and oldest respondents?\n",
    "    4. In which region do people tend to smoke most?\n",
    "    5. How many male and female smokers are there at given age?\n",
    "    6. In which region do people usually have more kids?\n",
    "    7. Where are males and females with highest and lowest bmi from?\n",
    "    \n",
    "    \n",
    "    Related to insurance charges\n",
    "    9. How much on average do people from each region spend on insurance?\n",
    "    10. How much on average do smokers and non-smoker spend on insurance?\n",
    "    11. To what extent do five variables (age, gender, BMI, children, smokers) have an impact on the cost of insurance?\n",
    "    \n",
    "    "
   ]
  },
  {
   "cell_type": "markdown",
   "metadata": {},
   "source": [
    "### 1. How many m/f respondents are there in the data set?"
   ]
  },
  {
   "cell_type": "code",
   "execution_count": 22,
   "metadata": {},
   "outputs": [],
   "source": [
    "import pandas as pd\n",
    "import matplotlib.pyplot as plt\n",
    "import seaborn as sns\n",
    "\n",
    "insurance_df = pd.read_csv('insurance.csv')"
   ]
  },
  {
   "cell_type": "code",
   "execution_count": 23,
   "metadata": {},
   "outputs": [
    {
     "name": "stdout",
     "output_type": "stream",
     "text": [
      "      age     sex     bmi  children smoker     region      charges\n",
      "0      19  female  27.900         0    yes  southwest  16884.92400\n",
      "1      18    male  33.770         1     no  southeast   1725.55230\n",
      "2      28    male  33.000         3     no  southeast   4449.46200\n",
      "3      33    male  22.705         0     no  northwest  21984.47061\n",
      "4      32    male  28.880         0     no  northwest   3866.85520\n",
      "...   ...     ...     ...       ...    ...        ...          ...\n",
      "1333   50    male  30.970         3     no  northwest  10600.54830\n",
      "1334   18  female  31.920         0     no  northeast   2205.98080\n",
      "1335   18  female  36.850         0     no  southeast   1629.83350\n",
      "1336   21  female  25.800         0     no  southwest   2007.94500\n",
      "1337   61  female  29.070         0    yes  northwest  29141.36030\n",
      "\n",
      "[1338 rows x 7 columns]\n"
     ]
    }
   ],
   "source": [
    "print(insurance_df)"
   ]
  },
  {
   "cell_type": "code",
   "execution_count": 24,
   "metadata": {},
   "outputs": [
    {
     "data": {
      "text/plain": [
       "male      676\n",
       "female    662\n",
       "Name: sex, dtype: int64"
      ]
     },
     "execution_count": 24,
     "metadata": {},
     "output_type": "execute_result"
    }
   ],
   "source": [
    "insurance_df[\"sex\"].value_counts()"
   ]
  },
  {
   "cell_type": "code",
   "execution_count": 25,
   "metadata": {
    "scrolled": true
   },
   "outputs": [
    {
     "data": {
      "text/plain": [
       "<AxesSubplot:xlabel='sex', ylabel='count'>"
      ]
     },
     "execution_count": 25,
     "metadata": {},
     "output_type": "execute_result"
    },
    {
     "data": {
      "image/png": "[encoded data removed]",
      "text/plain": [
       "<Figure size 432x288 with 1 Axes>"
      ]
     },
     "metadata": {
      "needs_background": "light"
     },
     "output_type": "display_data"
    }
   ],
   "source": [
    "sns.countplot(x = \"sex\", data = insurance_df)"
   ]
  },
  {
   "cell_type": "markdown",
   "metadata": {},
   "source": [
    "### 2. How are m/f respondents distributed across regions?"
   ]
  },
  {
   "cell_type": "code",
   "execution_count": 26,
   "metadata": {},
   "outputs": [
    {
     "name": "stdout",
     "output_type": "stream",
     "text": [
      "region  northeast  northwest  southeast  southwest\n",
      "sex                                               \n",
      "female        161        164        175        162\n",
      "male          163        161        189        163\n"
     ]
    }
   ],
   "source": [
    "sex_region_group = insurance_df.groupby(['region', 'sex']).size().reset_index(name=\"count\")\n",
    "s_reg_pt = sex_region_group.pivot_table(index=\"sex\", columns = \"region\", values = \"count\")\n",
    "\n",
    "print(s_reg_pt)"
   ]
  },
  {
   "cell_type": "code",
   "execution_count": 27,
   "metadata": {
    "scrolled": true
   },
   "outputs": [
    {
     "data": {
      "image/png": "[encoded data removed]",
      "text/plain": [
       "<Figure size 432x288 with 1 Axes>"
      ]
     },
     "metadata": {
      "needs_background": "light"
     },
     "output_type": "display_data"
    }
   ],
   "source": [
    "s_reg_pt.plot(kind = \"bar\")\n",
    "\n",
    "plt.xlabel(\"sex\")\n",
    "plt.ylabel(\"count\")\n",
    "plt.title(\"Distribution of correspondents across regions by sex\")\n",
    "\n",
    "plt.show()"
   ]
  },
  {
   "cell_type": "markdown",
   "metadata": {},
   "source": [
    "### 3. How old are the youngest and oldest respondents?"
   ]
  },
  {
   "cell_type": "code",
   "execution_count": 28,
   "metadata": {},
   "outputs": [
    {
     "name": "stdout",
     "output_type": "stream",
     "text": [
      "18\n",
      "64\n"
     ]
    }
   ],
   "source": [
    "youngest = insurance_df[\"age\"].min()\n",
    "oldest = insurance_df[\"age\"].max()\n",
    "\n",
    "print(youngest)\n",
    "print(oldest)"
   ]
  },
  {
   "cell_type": "code",
   "execution_count": 29,
   "metadata": {
    "scrolled": false
   },
   "outputs": [
    {
     "data": {
      "image/png": "[encoded data removed]",
      "text/plain": [
       "<Figure size 432x288 with 1 Axes>"
      ]
     },
     "metadata": {
      "needs_background": "light"
     },
     "output_type": "display_data"
    }
   ],
   "source": [
    "sex_age_group = insurance_df.groupby(['sex', 'age']).size().reset_index(name=\"count\")\n",
    "\n",
    "\n",
    "female_age = sex_age_group[sex_age_group[\"sex\"] == \"female\"]\n",
    "male_age = sex_age_group[sex_age_group[\"sex\"] == \"male\"]\n",
    "\n",
    "plt.bar(male_age[\"age\"], male_age[\"count\"], label = \"Male\")\n",
    "plt.bar(female_age[\"age\"], female_age[\"count\"], label = \"Female\", alpha = 0.5)\n",
    "\n",
    "plt.xlabel(\"Age\")\n",
    "plt.ylabel(\"Count\")\n",
    "plt.title(\"Number of Males and Females by Age\")\n",
    "plt.legend()\n",
    "\n",
    "plt.show()"
   ]
  },
  {
   "cell_type": "markdown",
   "metadata": {},
   "source": [
    "### 4. In which region do people tend to smoke most (by age and gender)?"
   ]
  },
  {
   "cell_type": "code",
   "execution_count": 30,
   "metadata": {},
   "outputs": [
    {
     "name": "stdout",
     "output_type": "stream",
     "text": [
      "      region  total\n",
      "0  northeast    324\n",
      "1  northwest    325\n",
      "2  southeast    364\n",
      "3  southwest    325\n",
      "      region  total smoker  count   percent\n",
      "0  northeast    324    yes     67  0.206790\n",
      "1  northwest    325    yes     58  0.178462\n",
      "2  southeast    364    yes     91  0.250000\n",
      "3  southwest    325    yes     58  0.178462\n"
     ]
    },
    {
     "data": {
      "image/png": "[encoded data removed]",
      "text/plain": [
       "<Figure size 432x288 with 1 Axes>"
      ]
     },
     "metadata": {
      "needs_background": "light"
     },
     "output_type": "display_data"
    }
   ],
   "source": [
    "region_smoker = insurance_df.loc[:,['region', 'smoker']] #subsetting region and smoker from data\n",
    "\n",
    "region_smoker_count = region_smoker.groupby('region').size().reset_index(name='total') #count of total respondents in each region\n",
    "print(region_smoker_count)\n",
    "\n",
    "\n",
    "# Number of respondents in each region is different.\n",
    "# Thus, to explore which regions has more smokers we need to look at the percentage (smoker / no. of resp.)\n",
    "\n",
    "\n",
    "smoker_yes = region_smoker[region_smoker['smoker'] == 'yes'] #filter only smokers\n",
    "smoker_yes_group = smoker_yes.groupby(['region', 'smoker']).size().reset_index(name='count')\n",
    "\n",
    "\n",
    "#Now let's merge two data sets on region\n",
    "\n",
    "region_smoker_merged = region_smoker_count.merge(smoker_yes_group, on = 'region')\n",
    "region_smoker_merged['percent'] = region_smoker_merged['count'] / region_smoker_merged['total']\n",
    "\n",
    "print(region_smoker_merged) # according to the data, one out of every four respondents in the southeastern region is a smoker\n",
    "\n",
    "\n",
    "region_smoker_merged.plot(x = 'region', y = 'percent', kind='bar', color = ['green', 'red', 'blue', 'grey'], alpha = 0.7)\n",
    "plt.xlabel('region')\n",
    "plt.ylabel('percent')\n",
    "plt.title('Percentage of smokers by region')\n",
    "plt.legend('')\n",
    "plt.show()"
   ]
  },
  {
   "cell_type": "markdown",
   "metadata": {},
   "source": [
    "### 5. How many male and female smokers are there at given age?"
   ]
  },
  {
   "cell_type": "code",
   "execution_count": 31,
   "metadata": {},
   "outputs": [
    {
     "name": "stdout",
     "output_type": "stream",
     "text": [
      "       sex  age  count  age_bins age_by_decade\n",
      "0   female   18      4  (10, 19]           10s\n",
      "1   female   19      9  (10, 19]           10s\n",
      "2   female   20      4  (19, 29]           20s\n",
      "3   female   21      1  (19, 29]           20s\n",
      "4   female   22      2  (19, 29]           20s\n",
      "..     ...  ...    ...       ...           ...\n",
      "84    male   60      4  (59, 69]           60s\n",
      "85    male   61      3  (59, 69]           60s\n",
      "86    male   62      3  (59, 69]           60s\n",
      "87    male   63      1  (59, 69]           60s\n",
      "88    male   64      3  (59, 69]           60s\n",
      "\n",
      "[89 rows x 5 columns]\n",
      "   age_by_decade     sex  count\n",
      "0            10s  female     13\n",
      "1            10s    male     17\n",
      "2            20s  female     24\n",
      "3            20s    male     32\n",
      "4            30s  female     22\n",
      "5            30s    male     36\n",
      "6            40s  female     28\n",
      "7            40s    male     34\n",
      "8            50s  female     15\n",
      "9            50s    male     26\n",
      "10           60s  female     13\n",
      "11           60s    male     14\n"
     ]
    },
    {
     "data": {
      "image/png": "[encoded data removed]",
      "text/plain": [
       "<Figure size 432x288 with 1 Axes>"
      ]
     },
     "metadata": {
      "needs_background": "light"
     },
     "output_type": "display_data"
    }
   ],
   "source": [
    "smoker_by_age_and_sex = insurance_df[insurance_df['smoker'] == 'yes'].groupby(['sex', 'age']).size().reset_index(name = 'count')\n",
    "\n",
    "smoker_by_age_and_sex['age_bins'] = pd.cut(x = smoker_by_age_and_sex['age'], bins = [10, 19, 29, 39, 49, 59, 69])\n",
    "smoker_by_age_and_sex['age_by_decade'] = pd.cut(x = smoker_by_age_and_sex['age'], \n",
    "                                                bins = [10, 19, 29, 39, 49, 59, 69], \n",
    "                                                labels = ['10s', '20s', '30s', '40s', '50s', '60s'])\n",
    "\n",
    "print(smoker_by_age_and_sex)\n",
    "\n",
    "smoker_df = smoker_by_age_and_sex.groupby(['age_by_decade', 'sex'])['count'].sum().reset_index(name='count')\n",
    "print(smoker_df)\n",
    "\n",
    "\n",
    "f_df = smoker_df[smoker_df[\"sex\"] == \"female\"]\n",
    "m_df = smoker_df[smoker_df[\"sex\"] == \"male\"]\n",
    "\n",
    "plt.bar(m_df[\"age_by_decade\"], m_df[\"count\"], label = \"Male\", color = 'grey')\n",
    "plt.bar(f_df[\"age_by_decade\"], f_df[\"count\"], label = \"Female\", alpha = 0.5, color = 'yellow')\n",
    "\n",
    "plt.xlabel(\"Age\")\n",
    "plt.ylabel(\"Count\")\n",
    "plt.title(\"Number of Male and Female Smokers by Age\")\n",
    "plt.legend()\n",
    "\n",
    "\n",
    "plt.show()"
   ]
  },
  {
   "cell_type": "markdown",
   "metadata": {},
   "source": [
    "### 6. In which region do people usually have more kids?"
   ]
  },
  {
   "cell_type": "code",
   "execution_count": 32,
   "metadata": {
    "scrolled": true
   },
   "outputs": [
    {
     "data": {
      "text/html": [
       "<div>\n",
       "<style scoped>\n",
       "    .dataframe tbody tr th:only-of-type {\n",
       "        vertical-align: middle;\n",
       "    }\n",
       "\n",
       "    .dataframe tbody tr th {\n",
       "        vertical-align: top;\n",
       "    }\n",
       "\n",
       "    .dataframe thead th {\n",
       "        text-align: right;\n",
       "    }\n",
       "</style>\n",
       "<table border=\"1\" class=\"dataframe\">\n",
       "  <thead>\n",
       "    <tr style=\"text-align: right;\">\n",
       "      <th></th>\n",
       "      <th>region</th>\n",
       "      <th>children</th>\n",
       "    </tr>\n",
       "  </thead>\n",
       "  <tbody>\n",
       "    <tr>\n",
       "      <th>0</th>\n",
       "      <td>northeast</td>\n",
       "      <td>339</td>\n",
       "    </tr>\n",
       "    <tr>\n",
       "      <th>1</th>\n",
       "      <td>northwest</td>\n",
       "      <td>373</td>\n",
       "    </tr>\n",
       "    <tr>\n",
       "      <th>2</th>\n",
       "      <td>southeast</td>\n",
       "      <td>382</td>\n",
       "    </tr>\n",
       "    <tr>\n",
       "      <th>3</th>\n",
       "      <td>southwest</td>\n",
       "      <td>371</td>\n",
       "    </tr>\n",
       "  </tbody>\n",
       "</table>\n",
       "</div>"
      ],
      "text/plain": [
       "      region  children\n",
       "0  northeast       339\n",
       "1  northwest       373\n",
       "2  southeast       382\n",
       "3  southwest       371"
      ]
     },
     "metadata": {},
     "output_type": "display_data"
    },
    {
     "data": {
      "text/html": [
       "<div>\n",
       "<style scoped>\n",
       "    .dataframe tbody tr th:only-of-type {\n",
       "        vertical-align: middle;\n",
       "    }\n",
       "\n",
       "    .dataframe tbody tr th {\n",
       "        vertical-align: top;\n",
       "    }\n",
       "\n",
       "    .dataframe thead th {\n",
       "        text-align: right;\n",
       "    }\n",
       "</style>\n",
       "<table border=\"1\" class=\"dataframe\">\n",
       "  <thead>\n",
       "    <tr style=\"text-align: right;\">\n",
       "      <th></th>\n",
       "      <th>region</th>\n",
       "      <th>children</th>\n",
       "      <th>3+ kids</th>\n",
       "      <th>ratio</th>\n",
       "    </tr>\n",
       "  </thead>\n",
       "  <tbody>\n",
       "    <tr>\n",
       "      <th>0</th>\n",
       "      <td>northeast</td>\n",
       "      <td>339</td>\n",
       "      <td>49</td>\n",
       "      <td>0.144543</td>\n",
       "    </tr>\n",
       "    <tr>\n",
       "      <th>1</th>\n",
       "      <td>northwest</td>\n",
       "      <td>373</td>\n",
       "      <td>53</td>\n",
       "      <td>0.142091</td>\n",
       "    </tr>\n",
       "    <tr>\n",
       "      <th>2</th>\n",
       "      <td>southeast</td>\n",
       "      <td>382</td>\n",
       "      <td>46</td>\n",
       "      <td>0.120419</td>\n",
       "    </tr>\n",
       "    <tr>\n",
       "      <th>3</th>\n",
       "      <td>southwest</td>\n",
       "      <td>371</td>\n",
       "      <td>52</td>\n",
       "      <td>0.140162</td>\n",
       "    </tr>\n",
       "  </tbody>\n",
       "</table>\n",
       "</div>"
      ],
      "text/plain": [
       "      region  children  3+ kids     ratio\n",
       "0  northeast       339       49  0.144543\n",
       "1  northwest       373       53  0.142091\n",
       "2  southeast       382       46  0.120419\n",
       "3  southwest       371       52  0.140162"
      ]
     },
     "metadata": {},
     "output_type": "display_data"
    }
   ],
   "source": [
    "# Total number of children in each region\n",
    "\n",
    "total_children = insurance_df.groupby('region', as_index = False)['children'].sum() # First to find the number of children by region\n",
    "display(total_children)\n",
    "\n",
    "# Regions with 3+ kids\n",
    "more_children_region = insurance_df[insurance_df['children'] >= 3].groupby('region')['children'].count().reset_index(name = '3+ kids')\n",
    "\n",
    "# Ratio of 3+ kids to total number of kids by region\n",
    "children_region_merged = total_children.merge(more_children_region, on='region')\n",
    "children_region_merged['ratio'] = children_region_merged['3+ kids'] / children_region_merged['children']\n",
    "display(children_region_merged)\n"
   ]
  },
  {
   "cell_type": "code",
   "execution_count": 33,
   "metadata": {},
   "outputs": [
    {
     "data": {
      "text/html": [
       "<div>\n",
       "<style scoped>\n",
       "    .dataframe tbody tr th:only-of-type {\n",
       "        vertical-align: middle;\n",
       "    }\n",
       "\n",
       "    .dataframe tbody tr th {\n",
       "        vertical-align: top;\n",
       "    }\n",
       "\n",
       "    .dataframe thead th {\n",
       "        text-align: right;\n",
       "    }\n",
       "</style>\n",
       "<table border=\"1\" class=\"dataframe\">\n",
       "  <thead>\n",
       "    <tr style=\"text-align: right;\">\n",
       "      <th>children</th>\n",
       "      <th>3</th>\n",
       "      <th>4</th>\n",
       "      <th>5</th>\n",
       "    </tr>\n",
       "    <tr>\n",
       "      <th>region</th>\n",
       "      <th></th>\n",
       "      <th></th>\n",
       "      <th></th>\n",
       "    </tr>\n",
       "  </thead>\n",
       "  <tbody>\n",
       "    <tr>\n",
       "      <th>northeast</th>\n",
       "      <td>39</td>\n",
       "      <td>7</td>\n",
       "      <td>3</td>\n",
       "    </tr>\n",
       "    <tr>\n",
       "      <th>northwest</th>\n",
       "      <td>46</td>\n",
       "      <td>6</td>\n",
       "      <td>1</td>\n",
       "    </tr>\n",
       "    <tr>\n",
       "      <th>southeast</th>\n",
       "      <td>35</td>\n",
       "      <td>5</td>\n",
       "      <td>6</td>\n",
       "    </tr>\n",
       "    <tr>\n",
       "      <th>southwest</th>\n",
       "      <td>37</td>\n",
       "      <td>7</td>\n",
       "      <td>8</td>\n",
       "    </tr>\n",
       "  </tbody>\n",
       "</table>\n",
       "</div>"
      ],
      "text/plain": [
       "children    3  4  5\n",
       "region             \n",
       "northeast  39  7  3\n",
       "northwest  46  6  1\n",
       "southeast  35  5  6\n",
       "southwest  37  7  8"
      ]
     },
     "metadata": {},
     "output_type": "display_data"
    },
    {
     "data": {
      "image/png": "[encoded data removed]",
      "text/plain": [
       "<Figure size 432x288 with 1 Axes>"
      ]
     },
     "metadata": {
      "needs_background": "light"
     },
     "output_type": "display_data"
    }
   ],
   "source": [
    "# Visualizatin of regions with more than 3 kids\n",
    "children_summary = insurance_df[insurance_df['children'] >= 3].groupby(['region', 'children'])['children'].count().reset_index(name='count')\n",
    "children_summary_detailed = children_summary.pivot_table(values='count', index='region', columns = 'children')\n",
    "display(children_summary_detailed)\n",
    "\n",
    "children_summary_detailed.plot(kind='bar')\n",
    "plt.show()"
   ]
  },
  {
   "cell_type": "markdown",
   "metadata": {},
   "source": [
    "### 7. Where are males and females with highest and lowest bmi from?"
   ]
  },
  {
   "cell_type": "code",
   "execution_count": 34,
   "metadata": {},
   "outputs": [
    {
     "name": "stdout",
     "output_type": "stream",
     "text": [
      "The highest BMI of a female in this data is 48.07. She is 46 years old and lives in northeast.\n",
      "The highest BMI of a male in this data is 53.13. He is 18 years old and lives in northeast.\n"
     ]
    }
   ],
   "source": [
    "max_bmi = insurance_df.groupby(['region', 'sex', 'age'], as_index = False)['bmi'].max()\n",
    "\n",
    "\n",
    "female_max_bmi = max_bmi[max_bmi['sex'] == 'female']['bmi'].max()\n",
    "f_max_bmi = max_bmi[(max_bmi['sex'] == 'female') & (max_bmi['bmi'] == female_max_bmi)]\n",
    "\n",
    "\n",
    "print('The highest BMI of a female in this data is ' + str(f_max_bmi.iloc[0, 3]) \n",
    "      + '. She is ' + str(f_max_bmi.iloc[0, 2]) + ' years old and lives in ' + str(f_max_bmi.iloc[0, 0]) + '.')\n",
    "\n",
    "male_max_bmi = max_bmi[max_bmi['sex'] == 'male']['bmi'].max()\n",
    "m_max_bmi = max_bmi[(max_bmi['sex'] == 'male') & (max_bmi['bmi'] == male_max_bmi)]\n",
    "\n",
    "\n",
    "print('The highest BMI of a male in this data is ' + str(m_max_bmi.iloc[0, 3]) \n",
    "      + '. He is ' + str(m_max_bmi.iloc[0, 2]) + ' years old and lives in ' + str(f_max_bmi.iloc[0, 0]) + '.')\n",
    "\n",
    "\n"
   ]
  },
  {
   "cell_type": "code",
   "execution_count": 35,
   "metadata": {
    "scrolled": true
   },
   "outputs": [
    {
     "name": "stdout",
     "output_type": "stream",
     "text": [
      "The lowest BMI of a female in this data is 16.815. She is 21 years old and lives in northeast.\n",
      "The lowest BMI of a male in this data is 16.815. He is 21 years old and lives in northeast.\n"
     ]
    }
   ],
   "source": [
    "min_bmi = insurance_df.groupby(['region', 'sex', 'age'], as_index = False)['bmi'].min()\n",
    "\n",
    "\n",
    "female_min_bmi = min_bmi[min_bmi['sex'] == 'female']['bmi'].min()\n",
    "f_min_bmi = min_bmi[(min_bmi['sex'] == 'female') & (min_bmi['bmi'] == female_min_bmi)]\n",
    "\n",
    "\n",
    "print('The lowest BMI of a female in this data is ' + str(f_min_bmi.iloc[0, 3]) \n",
    "      + '. She is ' + str(f_min_bmi.iloc[0, 2]) + ' years old and lives in ' + str(f_min_bmi.iloc[0, 0]) + '.')\n",
    "\n",
    "\n",
    "male_min_bmi = min_bmi[min_bmi['sex'] == 'male']['bmi'].min()\n",
    "m_min_bmi = min_bmi[(min_bmi['sex'] == 'male') & (min_bmi['bmi'] == male_min_bmi)]\n",
    "\n",
    "\n",
    "print('The lowest BMI of a male in this data is ' + str(f_min_bmi.iloc[0, 3]) \n",
    "      + '. He is ' + str(f_min_bmi.iloc[0, 2]) + ' years old and lives in ' + str(f_min_bmi.iloc[0, 0]) + '.')"
   ]
  },
  {
   "cell_type": "code",
   "execution_count": 36,
   "metadata": {},
   "outputs": [
    {
     "data": {
      "text/html": [
       "<div>\n",
       "<style scoped>\n",
       "    .dataframe tbody tr th:only-of-type {\n",
       "        vertical-align: middle;\n",
       "    }\n",
       "\n",
       "    .dataframe tbody tr th {\n",
       "        vertical-align: top;\n",
       "    }\n",
       "\n",
       "    .dataframe thead th {\n",
       "        text-align: right;\n",
       "    }\n",
       "</style>\n",
       "<table border=\"1\" class=\"dataframe\">\n",
       "  <thead>\n",
       "    <tr style=\"text-align: right;\">\n",
       "      <th>age_by_decade</th>\n",
       "      <th>10s</th>\n",
       "      <th>20s</th>\n",
       "      <th>30s</th>\n",
       "      <th>40s</th>\n",
       "      <th>50s</th>\n",
       "      <th>60s</th>\n",
       "    </tr>\n",
       "    <tr>\n",
       "      <th>region</th>\n",
       "      <th></th>\n",
       "      <th></th>\n",
       "      <th></th>\n",
       "      <th></th>\n",
       "      <th></th>\n",
       "      <th></th>\n",
       "    </tr>\n",
       "  </thead>\n",
       "  <tbody>\n",
       "    <tr>\n",
       "      <th>northeast</th>\n",
       "      <td>28.562344</td>\n",
       "      <td>27.733116</td>\n",
       "      <td>28.457951</td>\n",
       "      <td>29.591103</td>\n",
       "      <td>30.448209</td>\n",
       "      <td>30.980556</td>\n",
       "    </tr>\n",
       "    <tr>\n",
       "      <th>northwest</th>\n",
       "      <td>28.639706</td>\n",
       "      <td>28.493015</td>\n",
       "      <td>28.385397</td>\n",
       "      <td>30.257500</td>\n",
       "      <td>29.946591</td>\n",
       "      <td>29.175179</td>\n",
       "    </tr>\n",
       "    <tr>\n",
       "      <th>southeast</th>\n",
       "      <td>33.893750</td>\n",
       "      <td>32.976533</td>\n",
       "      <td>33.613768</td>\n",
       "      <td>32.749367</td>\n",
       "      <td>33.700857</td>\n",
       "      <td>33.773548</td>\n",
       "    </tr>\n",
       "    <tr>\n",
       "      <th>southwest</th>\n",
       "      <td>27.825806</td>\n",
       "      <td>29.647059</td>\n",
       "      <td>30.945312</td>\n",
       "      <td>29.872727</td>\n",
       "      <td>31.819118</td>\n",
       "      <td>33.910714</td>\n",
       "    </tr>\n",
       "  </tbody>\n",
       "</table>\n",
       "</div>"
      ],
      "text/plain": [
       "age_by_decade        10s        20s        30s        40s        50s  \\\n",
       "region                                                                 \n",
       "northeast      28.562344  27.733116  28.457951  29.591103  30.448209   \n",
       "northwest      28.639706  28.493015  28.385397  30.257500  29.946591   \n",
       "southeast      33.893750  32.976533  33.613768  32.749367  33.700857   \n",
       "southwest      27.825806  29.647059  30.945312  29.872727  31.819118   \n",
       "\n",
       "age_by_decade        60s  \n",
       "region                    \n",
       "northeast      30.980556  \n",
       "northwest      29.175179  \n",
       "southeast      33.773548  \n",
       "southwest      33.910714  "
      ]
     },
     "metadata": {},
     "output_type": "display_data"
    }
   ],
   "source": [
    "bmi_df = insurance_df.loc[:, ['region', 'age', 'bmi']]\n",
    "bmi_df['age_by_decade'] = pd.cut(x=bmi_df['age'], bins=[10, 19, 29, 39, 49, 59, 69],\n",
    "                                          labels=['10s', '20s', '30s', '40s', '50s', '60s'])\n",
    "\n",
    "\n",
    "bmi_df_updated = bmi_df.loc[:, ['region', 'age_by_decade', 'bmi']].groupby(['region', 'age_by_decade'])['bmi'].mean().reset_index(name='bmi')\n",
    "\n",
    "\n",
    "display(bmi_df_updated.pivot_table(index = 'region', columns = 'age_by_decade', values = 'bmi'))"
   ]
  },
  {
   "cell_type": "code",
   "execution_count": 37,
   "metadata": {},
   "outputs": [
    {
     "data": {
      "image/png": "[encoded data removed]",
      "text/plain": [
       "<Figure size 447.25x360 with 1 Axes>"
      ]
     },
     "metadata": {
      "needs_background": "light"
     },
     "output_type": "display_data"
    }
   ],
   "source": [
    "sns.relplot(data = bmi_df_updated, kind = 'line', x = bmi_df_updated['age_by_decade'],\n",
    "           y = bmi_df_updated['bmi'], hue = 'region')\n",
    "\n",
    "\n",
    "plt.xlabel(\"Age\")\n",
    "plt.ylabel(\"BMI\")\n",
    "plt.title(\"Average BMI by region\")\n",
    "plt.show()"
   ]
  },
  {
   "cell_type": "markdown",
   "metadata": {},
   "source": [
    "### 9. How much on average do people from each region spend on insurance?"
   ]
  },
  {
   "cell_type": "code",
   "execution_count": 38,
   "metadata": {},
   "outputs": [
    {
     "data": {
      "text/html": [
       "<div>\n",
       "<style scoped>\n",
       "    .dataframe tbody tr th:only-of-type {\n",
       "        vertical-align: middle;\n",
       "    }\n",
       "\n",
       "    .dataframe tbody tr th {\n",
       "        vertical-align: top;\n",
       "    }\n",
       "\n",
       "    .dataframe thead th {\n",
       "        text-align: right;\n",
       "    }\n",
       "</style>\n",
       "<table border=\"1\" class=\"dataframe\">\n",
       "  <thead>\n",
       "    <tr style=\"text-align: right;\">\n",
       "      <th></th>\n",
       "      <th>region</th>\n",
       "      <th>average_amount</th>\n",
       "    </tr>\n",
       "  </thead>\n",
       "  <tbody>\n",
       "    <tr>\n",
       "      <th>0</th>\n",
       "      <td>northeast</td>\n",
       "      <td>13406.384516</td>\n",
       "    </tr>\n",
       "    <tr>\n",
       "      <th>1</th>\n",
       "      <td>northwest</td>\n",
       "      <td>12417.575374</td>\n",
       "    </tr>\n",
       "    <tr>\n",
       "      <th>2</th>\n",
       "      <td>southeast</td>\n",
       "      <td>14735.411438</td>\n",
       "    </tr>\n",
       "    <tr>\n",
       "      <th>3</th>\n",
       "      <td>southwest</td>\n",
       "      <td>12346.937377</td>\n",
       "    </tr>\n",
       "  </tbody>\n",
       "</table>\n",
       "</div>"
      ],
      "text/plain": [
       "      region  average_amount\n",
       "0  northeast    13406.384516\n",
       "1  northwest    12417.575374\n",
       "2  southeast    14735.411438\n",
       "3  southwest    12346.937377"
      ]
     },
     "metadata": {},
     "output_type": "display_data"
    },
    {
     "data": {
      "image/png": "[encoded data removed]",
      "text/plain": [
       "<Figure size 432x288 with 1 Axes>"
      ]
     },
     "metadata": {
      "needs_background": "light"
     },
     "output_type": "display_data"
    }
   ],
   "source": [
    "ins_by_region = insurance_df.groupby('region')['charges'].mean().reset_index(name='average_amount')\n",
    "display(ins_by_region)\n",
    "\n",
    "ins_by_region.plot(x = 'region', y = 'average_amount', kind = 'bar')\n",
    "plt.show()"
   ]
  },
  {
   "cell_type": "markdown",
   "metadata": {},
   "source": [
    "### 10. How much on average do smokers and non-smoker spend on insurance?"
   ]
  },
  {
   "cell_type": "code",
   "execution_count": 39,
   "metadata": {},
   "outputs": [
    {
     "data": {
      "text/html": [
       "<div>\n",
       "<style scoped>\n",
       "    .dataframe tbody tr th:only-of-type {\n",
       "        vertical-align: middle;\n",
       "    }\n",
       "\n",
       "    .dataframe tbody tr th {\n",
       "        vertical-align: top;\n",
       "    }\n",
       "\n",
       "    .dataframe thead th {\n",
       "        text-align: right;\n",
       "    }\n",
       "</style>\n",
       "<table border=\"1\" class=\"dataframe\">\n",
       "  <thead>\n",
       "    <tr style=\"text-align: right;\">\n",
       "      <th></th>\n",
       "      <th>smoker</th>\n",
       "      <th>charges</th>\n",
       "    </tr>\n",
       "  </thead>\n",
       "  <tbody>\n",
       "    <tr>\n",
       "      <th>0</th>\n",
       "      <td>no</td>\n",
       "      <td>8434.268298</td>\n",
       "    </tr>\n",
       "    <tr>\n",
       "      <th>1</th>\n",
       "      <td>yes</td>\n",
       "      <td>32050.231832</td>\n",
       "    </tr>\n",
       "  </tbody>\n",
       "</table>\n",
       "</div>"
      ],
      "text/plain": [
       "  smoker       charges\n",
       "0     no   8434.268298\n",
       "1    yes  32050.231832"
      ]
     },
     "metadata": {},
     "output_type": "display_data"
    },
    {
     "name": "stdout",
     "output_type": "stream",
     "text": [
      "According to this data, smokers with an average amount of 32050.23 spend 3.8 times more on insurance than non-smokers, which is accounted for 8434.27.\n"
     ]
    }
   ],
   "source": [
    "ins_by_smoker = insurance_df.loc[:, ['smoker', 'charges']].groupby('smoker', as_index = False)['charges'].mean()\n",
    "diff = round(ins_by_smoker.iloc[1, 1] / ins_by_smoker.iloc[0, 1], ndigits = 2)\n",
    "\n",
    "display(ins_by_smoker)\n",
    "\n",
    "print('According to this data, smokers with an average amount of ' +\n",
    "      str(round(ins_by_smoker.iloc[1, 1], ndigits=2)) + ' spend ' +\n",
    "      str(diff) + ' times more on insurance than non-smokers, which is accounted for ' +\n",
    "      str(round(ins_by_smoker.iloc[0, 1], ndigits=2)) + '.')"
   ]
  },
  {
   "cell_type": "markdown",
   "metadata": {},
   "source": [
    "### 11. To what extent do five variables (age, gender, BMI, children, smokers) have an impact on the cost of insurance?"
   ]
  },
  {
   "cell_type": "code",
   "execution_count": 133,
   "metadata": {
    "scrolled": false
   },
   "outputs": [
    {
     "data": {
      "image/png": "[encoded data removed]",
      "text/plain": [
       "<Figure size 360x360 with 1 Axes>"
      ]
     },
     "metadata": {
      "needs_background": "light"
     },
     "output_type": "display_data"
    }
   ],
   "source": [
    "# 11-1. Testing correlation between age and insurance charges\n",
    "\n",
    "sns.relplot(data = insurance_df, kind = 'line', x = 'age', y = 'charges')\n",
    "plt.show()"
   ]
  },
  {
   "cell_type": "code",
   "execution_count": 112,
   "metadata": {
    "scrolled": false
   },
   "outputs": [
    {
     "data": {
      "text/html": [
       "<div>\n",
       "<style scoped>\n",
       "    .dataframe tbody tr th:only-of-type {\n",
       "        vertical-align: middle;\n",
       "    }\n",
       "\n",
       "    .dataframe tbody tr th {\n",
       "        vertical-align: top;\n",
       "    }\n",
       "\n",
       "    .dataframe thead th {\n",
       "        text-align: right;\n",
       "    }\n",
       "</style>\n",
       "<table border=\"1\" class=\"dataframe\">\n",
       "  <thead>\n",
       "    <tr style=\"text-align: right;\">\n",
       "      <th></th>\n",
       "      <th>age</th>\n",
       "      <th>sex</th>\n",
       "      <th>bmi</th>\n",
       "      <th>children</th>\n",
       "      <th>smoker</th>\n",
       "      <th>region</th>\n",
       "      <th>charges</th>\n",
       "    </tr>\n",
       "  </thead>\n",
       "  <tbody>\n",
       "    <tr>\n",
       "      <th>0</th>\n",
       "      <td>30</td>\n",
       "      <td>female</td>\n",
       "      <td>21.945</td>\n",
       "      <td>1</td>\n",
       "      <td>no</td>\n",
       "      <td>northeast</td>\n",
       "      <td>4718.20355</td>\n",
       "    </tr>\n",
       "    <tr>\n",
       "      <th>1</th>\n",
       "      <td>30</td>\n",
       "      <td>female</td>\n",
       "      <td>22.895</td>\n",
       "      <td>1</td>\n",
       "      <td>no</td>\n",
       "      <td>northeast</td>\n",
       "      <td>4719.52405</td>\n",
       "    </tr>\n",
       "    <tr>\n",
       "      <th>2</th>\n",
       "      <td>30</td>\n",
       "      <td>male</td>\n",
       "      <td>24.130</td>\n",
       "      <td>1</td>\n",
       "      <td>no</td>\n",
       "      <td>northwest</td>\n",
       "      <td>4032.24070</td>\n",
       "    </tr>\n",
       "    <tr>\n",
       "      <th>3</th>\n",
       "      <td>30</td>\n",
       "      <td>male</td>\n",
       "      <td>27.645</td>\n",
       "      <td>1</td>\n",
       "      <td>no</td>\n",
       "      <td>northeast</td>\n",
       "      <td>4237.12655</td>\n",
       "    </tr>\n",
       "    <tr>\n",
       "      <th>4</th>\n",
       "      <td>30</td>\n",
       "      <td>female</td>\n",
       "      <td>28.405</td>\n",
       "      <td>1</td>\n",
       "      <td>no</td>\n",
       "      <td>northwest</td>\n",
       "      <td>4527.18295</td>\n",
       "    </tr>\n",
       "    <tr>\n",
       "      <th>5</th>\n",
       "      <td>30</td>\n",
       "      <td>male</td>\n",
       "      <td>31.400</td>\n",
       "      <td>1</td>\n",
       "      <td>no</td>\n",
       "      <td>southwest</td>\n",
       "      <td>3659.34600</td>\n",
       "    </tr>\n",
       "    <tr>\n",
       "      <th>6</th>\n",
       "      <td>30</td>\n",
       "      <td>female</td>\n",
       "      <td>32.400</td>\n",
       "      <td>1</td>\n",
       "      <td>no</td>\n",
       "      <td>southwest</td>\n",
       "      <td>4149.73600</td>\n",
       "    </tr>\n",
       "    <tr>\n",
       "      <th>7</th>\n",
       "      <td>30</td>\n",
       "      <td>female</td>\n",
       "      <td>33.330</td>\n",
       "      <td>1</td>\n",
       "      <td>no</td>\n",
       "      <td>southeast</td>\n",
       "      <td>4151.02870</td>\n",
       "    </tr>\n",
       "  </tbody>\n",
       "</table>\n",
       "</div>"
      ],
      "text/plain": [
       "   age     sex     bmi  children smoker     region     charges\n",
       "0   30  female  21.945         1     no  northeast  4718.20355\n",
       "1   30  female  22.895         1     no  northeast  4719.52405\n",
       "2   30    male  24.130         1     no  northwest  4032.24070\n",
       "3   30    male  27.645         1     no  northeast  4237.12655\n",
       "4   30  female  28.405         1     no  northwest  4527.18295\n",
       "5   30    male  31.400         1     no  southwest  3659.34600\n",
       "6   30  female  32.400         1     no  southwest  4149.73600\n",
       "7   30  female  33.330         1     no  southeast  4151.02870"
      ]
     },
     "metadata": {},
     "output_type": "display_data"
    },
    {
     "data": {
      "text/html": [
       "<div>\n",
       "<style scoped>\n",
       "    .dataframe tbody tr th:only-of-type {\n",
       "        vertical-align: middle;\n",
       "    }\n",
       "\n",
       "    .dataframe tbody tr th {\n",
       "        vertical-align: top;\n",
       "    }\n",
       "\n",
       "    .dataframe thead th {\n",
       "        text-align: right;\n",
       "    }\n",
       "</style>\n",
       "<table border=\"1\" class=\"dataframe\">\n",
       "  <thead>\n",
       "    <tr style=\"text-align: right;\">\n",
       "      <th></th>\n",
       "      <th>sex</th>\n",
       "      <th>bmi</th>\n",
       "    </tr>\n",
       "  </thead>\n",
       "  <tbody>\n",
       "    <tr>\n",
       "      <th>0</th>\n",
       "      <td>female</td>\n",
       "      <td>27.795</td>\n",
       "    </tr>\n",
       "    <tr>\n",
       "      <th>1</th>\n",
       "      <td>male</td>\n",
       "      <td>27.725</td>\n",
       "    </tr>\n",
       "  </tbody>\n",
       "</table>\n",
       "</div>"
      ],
      "text/plain": [
       "      sex     bmi\n",
       "0  female  27.795\n",
       "1    male  27.725"
      ]
     },
     "metadata": {},
     "output_type": "display_data"
    },
    {
     "name": "stdout",
     "output_type": "stream",
     "text": [
      "region     sex     bmi   \n",
      "northeast  female  21.945    4718.20355\n",
      "                   22.895    4719.52405\n",
      "           male    27.645    4237.12655\n",
      "northwest  female  28.405    4527.18295\n",
      "           male    24.130    4032.24070\n",
      "southeast  female  33.330    4151.02870\n",
      "southwest  female  32.400    4149.73600\n",
      "           male    31.400    3659.34600\n",
      "Name: charges, dtype: float64\n"
     ]
    }
   ],
   "source": [
    "# 11-2. Testing correlation between gender and insurance charges\n",
    "\n",
    "## First we need to make sure that all other variables are equal. \n",
    "## Otherwise, the results could be misleading.\n",
    "## Thus, data will be filtered based on follows: non-smoker, 30 years old, \n",
    "## 1 kid, same region\n",
    "\n",
    "non_smoker_30 = insurance_df[(insurance_df['smoker'] == 'no') & (insurance_df['age'] == 30) & \n",
    "                             (insurance_df['children'] == 1)].sort_values(by = 'bmi').reset_index(drop = True)\n",
    "\n",
    "\n",
    "\n",
    "non_smoker_30_clean = non_smoker_30.drop(8) # removing the last column which is an outlier\n",
    "display(non_smoker_30_clean)\n",
    "\n",
    "display(non_smoker_30_clean.groupby('sex', as_index = False)['bmi'].mean()) # achieved a similar average BMI\n",
    "print(non_smoker_30_clean.groupby(['region', 'sex', 'bmi'])['charges'].mean())\n",
    "\n",
    "## There is not significant discrepency between m/f regarding charges except for southwest and northeast regions\n",
    "## In this case, more comprehensive research is needed to discern the cause of such an anomaly"
   ]
  },
  {
   "cell_type": "code",
   "execution_count": 140,
   "metadata": {
    "scrolled": false
   },
   "outputs": [
    {
     "data": {
      "image/png": "[encoded data removed]",
      "text/plain": [
       "<Figure size 432x432 with 3 Axes>"
      ]
     },
     "metadata": {
      "needs_background": "light"
     },
     "output_type": "display_data"
    }
   ],
   "source": [
    "# 11-3. Testing correlation between BMI and insurance charges\n",
    "\n",
    "sns.jointplot(x='bmi', y='charges', data=insurance_df, kind = \"kde\", gridsize=20, hue = 'sex')\n",
    "plt.suptitle(\"BMI vs. Charges\", y=1.02)\n",
    "plt.show()\n",
    "\n",
    "## According to the graph below, the insurance charges paid by men and women are very similar. \n",
    "## Although for some reason men with a higher BMI (between 40 and 50) are charged more on average than women."
   ]
  },
  {
   "cell_type": "code",
   "execution_count": 157,
   "metadata": {
    "scrolled": false
   },
   "outputs": [
    {
     "data": {
      "text/html": [
       "<div>\n",
       "<style scoped>\n",
       "    .dataframe tbody tr th:only-of-type {\n",
       "        vertical-align: middle;\n",
       "    }\n",
       "\n",
       "    .dataframe tbody tr th {\n",
       "        vertical-align: top;\n",
       "    }\n",
       "\n",
       "    .dataframe thead th {\n",
       "        text-align: right;\n",
       "    }\n",
       "</style>\n",
       "<table border=\"1\" class=\"dataframe\">\n",
       "  <thead>\n",
       "    <tr style=\"text-align: right;\">\n",
       "      <th></th>\n",
       "      <th>children</th>\n",
       "      <th>charges</th>\n",
       "    </tr>\n",
       "  </thead>\n",
       "  <tbody>\n",
       "    <tr>\n",
       "      <th>0</th>\n",
       "      <td>0</td>\n",
       "      <td>7611.793335</td>\n",
       "    </tr>\n",
       "    <tr>\n",
       "      <th>1</th>\n",
       "      <td>1</td>\n",
       "      <td>8303.109350</td>\n",
       "    </tr>\n",
       "    <tr>\n",
       "      <th>2</th>\n",
       "      <td>2</td>\n",
       "      <td>9493.093674</td>\n",
       "    </tr>\n",
       "    <tr>\n",
       "      <th>3</th>\n",
       "      <td>3</td>\n",
       "      <td>9614.519391</td>\n",
       "    </tr>\n",
       "    <tr>\n",
       "      <th>4</th>\n",
       "      <td>4</td>\n",
       "      <td>12121.344408</td>\n",
       "    </tr>\n",
       "    <tr>\n",
       "      <th>5</th>\n",
       "      <td>5</td>\n",
       "      <td>8183.845556</td>\n",
       "    </tr>\n",
       "  </tbody>\n",
       "</table>\n",
       "</div>"
      ],
      "text/plain": [
       "   children       charges\n",
       "0         0   7611.793335\n",
       "1         1   8303.109350\n",
       "2         2   9493.093674\n",
       "3         3   9614.519391\n",
       "4         4  12121.344408\n",
       "5         5   8183.845556"
      ]
     },
     "metadata": {},
     "output_type": "display_data"
    }
   ],
   "source": [
    "# 11-4. Testing the correlation between the number of children and insurance costs\n",
    "\n",
    "\n",
    "display(insurance_df[insurance_df['smoker'] == 'no'].groupby('children', as_index = False)['charges'].mean()) # Average charges per number of children\n",
    "non_smoker = insurance_df[insurance_df['smoker'] == 'no']\n"
   ]
  },
  {
   "cell_type": "code",
   "execution_count": 159,
   "metadata": {
    "scrolled": true
   },
   "outputs": [
    {
     "data": {
      "image/png": "[encoded data removed]",
      "text/plain": [
       "<Figure size 432x288 with 1 Axes>"
      ]
     },
     "metadata": {
      "needs_background": "light"
     },
     "output_type": "display_data"
    }
   ],
   "source": [
    "sns.lineplot(x='children', y='charges', data=non_smoker)\n",
    "plt.suptitle(\"Children vs. Charges\", y=1.02)\n",
    "plt.show()\n",
    "\n",
    "## Based on the findings, it appears that the number of children has a proportional impact on insurance costs. \n",
    "## The charges show a decreasing trend when the number of children reaches five. \n",
    "## However, considering the significant role played by the age of the children, \n",
    "## such a decline can be reasonably understood."
   ]
  },
  {
   "cell_type": "code",
   "execution_count": 176,
   "metadata": {},
   "outputs": [
    {
     "data": {
      "text/html": [
       "<div>\n",
       "<style scoped>\n",
       "    .dataframe tbody tr th:only-of-type {\n",
       "        vertical-align: middle;\n",
       "    }\n",
       "\n",
       "    .dataframe tbody tr th {\n",
       "        vertical-align: top;\n",
       "    }\n",
       "\n",
       "    .dataframe thead th {\n",
       "        text-align: right;\n",
       "    }\n",
       "</style>\n",
       "<table border=\"1\" class=\"dataframe\">\n",
       "  <thead>\n",
       "    <tr style=\"text-align: right;\">\n",
       "      <th></th>\n",
       "      <th>smoker</th>\n",
       "      <th>region</th>\n",
       "      <th>charges</th>\n",
       "    </tr>\n",
       "  </thead>\n",
       "  <tbody>\n",
       "    <tr>\n",
       "      <th>0</th>\n",
       "      <td>no</td>\n",
       "      <td>northeast</td>\n",
       "      <td>9165.531672</td>\n",
       "    </tr>\n",
       "    <tr>\n",
       "      <th>1</th>\n",
       "      <td>no</td>\n",
       "      <td>northwest</td>\n",
       "      <td>8556.463715</td>\n",
       "    </tr>\n",
       "    <tr>\n",
       "      <th>2</th>\n",
       "      <td>no</td>\n",
       "      <td>southeast</td>\n",
       "      <td>8032.216309</td>\n",
       "    </tr>\n",
       "    <tr>\n",
       "      <th>3</th>\n",
       "      <td>no</td>\n",
       "      <td>southwest</td>\n",
       "      <td>8019.284513</td>\n",
       "    </tr>\n",
       "    <tr>\n",
       "      <th>4</th>\n",
       "      <td>yes</td>\n",
       "      <td>northeast</td>\n",
       "      <td>29673.536473</td>\n",
       "    </tr>\n",
       "    <tr>\n",
       "      <th>5</th>\n",
       "      <td>yes</td>\n",
       "      <td>northwest</td>\n",
       "      <td>30192.003182</td>\n",
       "    </tr>\n",
       "    <tr>\n",
       "      <th>6</th>\n",
       "      <td>yes</td>\n",
       "      <td>southeast</td>\n",
       "      <td>34844.996824</td>\n",
       "    </tr>\n",
       "    <tr>\n",
       "      <th>7</th>\n",
       "      <td>yes</td>\n",
       "      <td>southwest</td>\n",
       "      <td>32269.063494</td>\n",
       "    </tr>\n",
       "  </tbody>\n",
       "</table>\n",
       "</div>"
      ],
      "text/plain": [
       "  smoker     region       charges\n",
       "0     no  northeast   9165.531672\n",
       "1     no  northwest   8556.463715\n",
       "2     no  southeast   8032.216309\n",
       "3     no  southwest   8019.284513\n",
       "4    yes  northeast  29673.536473\n",
       "5    yes  northwest  30192.003182\n",
       "6    yes  southeast  34844.996824\n",
       "7    yes  southwest  32269.063494"
      ]
     },
     "metadata": {},
     "output_type": "display_data"
    },
    {
     "data": {
      "image/png": "[encoded data removed]",
      "text/plain": [
       "<Figure size 432x288 with 1 Axes>"
      ]
     },
     "metadata": {
      "needs_background": "light"
     },
     "output_type": "display_data"
    }
   ],
   "source": [
    "# 11-5. Testing the correlation between the smokers and insurance costs\n",
    "\n",
    "## As already explored in the 10th section, smokers spend 3.8 times more on insurance than non-smokers\n",
    "\n",
    "\n",
    "smoker_charges = insurance_df.groupby(['smoker', 'region'], as_index = False)['charges'].mean() \n",
    "\n",
    "display(smoker_charges) # Average charges based on smoker and region variables\n",
    "\n",
    "sns.barplot(data=smoker_charges, x=\"region\", y=\"charges\", hue=\"smoker\")\n",
    "plt.show()\n",
    "\n",
    "## Although there is no significant difference in charges for non-smokers, \n",
    "## southern regions appear to pay more for insurance costs."
   ]
  }
 ],
 "metadata": {
  "kernelspec": {
   "display_name": "Python 3 (ipykernel)",
   "language": "python",
   "name": "python3"
  },
  "language_info": {
   "codemirror_mode": {
    "name": "ipython",
    "version": 3
   },
   "file_extension": ".py",
   "mimetype": "text/x-python",
   "name": "python",
   "nbconvert_exporter": "python",
   "pygments_lexer": "ipython3",
   "version": "3.9.12"
  }
 },
 "nbformat": 4,
 "nbformat_minor": 4
}
